{
 "cells": [
  {
   "cell_type": "markdown",
   "metadata": {},
   "source": [
    "# Exploratory data analysis"
   ]
  },
  {
   "cell_type": "markdown",
   "metadata": {},
   "source": [
    "## Table of Contents\n",
    "\n",
    "- [Data import](#0)\n",
    "- [Identify drop features](#1)\n",
    "- [Visualizing features](#2)"
   ]
  },
  {
   "cell_type": "code",
   "execution_count": 1,
   "metadata": {
    "execution": {
     "iopub.execute_input": "2020-12-13T01:25:25.783293Z",
     "iopub.status.busy": "2020-12-13T01:25:25.782666Z",
     "iopub.status.idle": "2020-12-13T01:25:27.213826Z",
     "shell.execute_reply": "2020-12-13T01:25:27.212580Z"
    }
   },
   "outputs": [],
   "source": [
    "# Import libraries\n",
    "import re\n",
    "import sys\n",
    "from hashlib import sha1\n",
    "from pandas_profiling import ProfileReport\n",
    "import altair as alt\n",
    "\n",
    "import matplotlib.pyplot as plt\n",
    "import numpy as np\n",
    "import pandas as pd\n",
    "\n",
    "from sklearn.dummy import DummyClassifier\n",
    "from sklearn.linear_model import LogisticRegression\n",
    "\n",
    "# train test split and cross validation\n",
    "from sklearn.model_selection import (\n",
    "    train_test_split,\n",
    ")\n",
    "\n",
    "from IPython.display import IFrame"
   ]
  },
  {
   "cell_type": "markdown",
   "metadata": {},
   "source": [
    "## Data import <a name=\"0\"></a>\n",
    "<hr>"
   ]
  },
  {
   "cell_type": "markdown",
   "metadata": {},
   "source": [
    "Here, we are importing the train data set outputted from the processing script for analysis purpose."
   ]
  },
  {
   "cell_type": "code",
   "execution_count": 2,
   "metadata": {
    "execution": {
     "iopub.execute_input": "2020-12-13T01:25:27.220701Z",
     "iopub.status.busy": "2020-12-13T01:25:27.220104Z",
     "iopub.status.idle": "2020-12-13T01:25:27.349223Z",
     "shell.execute_reply": "2020-12-13T01:25:27.349898Z"
    }
   },
   "outputs": [],
   "source": [
    "train_df = pd.read_csv('../data/processed/train.csv')"
   ]
  },
  {
   "cell_type": "markdown",
   "metadata": {},
   "source": [
    "## Data overview\n",
    "<hr>"
   ]
  },
  {
   "cell_type": "markdown",
   "metadata": {},
   "source": [
    "### Data Format\n",
    "\n",
    "| Column Name | Column Type | Description                             | Target? |\n",
    "|-------------|-------------|-----------------------------------------|---------|\n",
    "| Id          | Numeric     | Unique ID assigned to each observation. | No      |\n",
    "| Text        | Free Text   | Body of the review content.             | No      |\n",
    "| Author      | Categorical | Author's name of the review             | No      |\n",
    "| Rating      | Numeric     | Ratings given along with the review     | Yes     |\n",
    "\n",
    "The data contains 4 columns, as documented in the table above. Specifically, `Rating` is our target column, and we want to use the rest of the information to predict rating."
   ]
  },
  {
   "cell_type": "markdown",
   "metadata": {},
   "source": [
    "### Profiling report\n",
    "\n",
    "The pandas profiling report give us a detailed overview of how our data looks like. Particularly, we can utilize it to view the general distribution as well as correlation of each of the columns.\n",
    "\n",
    "Parituclarly, we are interested in the `Interaction` and `Correlation` between all these features.\n",
    "As expected, we are seeing a both weak correlation and interaction between all these features, because most of the information are embeded in the `Text` column, which needs to be further extracted."
   ]
  },
  {
   "cell_type": "code",
   "execution_count": 3,
   "metadata": {
    "execution": {
     "iopub.execute_input": "2020-12-13T01:25:27.355092Z",
     "iopub.status.busy": "2020-12-13T01:25:27.353960Z",
     "iopub.status.idle": "2020-12-13T01:25:27.359176Z",
     "shell.execute_reply": "2020-12-13T01:25:27.359899Z"
    }
   },
   "outputs": [
    {
     "data": {
      "text/html": [
       "\n",
       "        <iframe\n",
       "            width=\"900\"\n",
       "            height=\"700\"\n",
       "            src=\"../results/profiling_report.html\"\n",
       "            frameborder=\"0\"\n",
       "            allowfullscreen\n",
       "        ></iframe>\n",
       "        "
      ],
      "text/plain": [
       "<IPython.lib.display.IFrame at 0x7f2f945e35b0>"
      ]
     },
     "execution_count": 1,
     "metadata": {},
     "output_type": "execute_result"
    }
   ],
   "source": [
    "IFrame(src='../results/profiling_report.html', width=900, height=700)"
   ]
  },
  {
   "cell_type": "code",
   "execution_count": 4,
   "metadata": {
    "execution": {
     "iopub.execute_input": "2020-12-13T01:25:27.363177Z",
     "iopub.status.busy": "2020-12-13T01:25:27.362454Z",
     "iopub.status.idle": "2020-12-13T01:25:27.374847Z",
     "shell.execute_reply": "2020-12-13T01:25:27.375380Z"
    }
   },
   "outputs": [
    {
     "name": "stdout",
     "output_type": "stream",
     "text": [
      "<class 'pandas.core.frame.DataFrame'>\n",
      "RangeIndex: 4004 entries, 0 to 4003\n",
      "Data columns (total 6 columns):\n",
      " #   Column     Non-Null Count  Dtype  \n",
      "---  ------     --------------  -----  \n",
      " 0   Id         4004 non-null   int64  \n",
      " 1   Text       4004 non-null   object \n",
      " 2   Author     4004 non-null   object \n",
      " 3   Rating     4004 non-null   float64\n",
      " 4   n_words    4004 non-null   int64  \n",
      " 5   sentiment  4004 non-null   object \n",
      "dtypes: float64(1), int64(2), object(3)\n",
      "memory usage: 187.8+ KB\n"
     ]
    }
   ],
   "source": [
    "train_df.info()"
   ]
  },
  {
   "cell_type": "markdown",
   "metadata": {},
   "source": [
    "## Identify drop features <a name=\"1\"></a>\n",
    "<hr>"
   ]
  },
  {
   "cell_type": "code",
   "execution_count": 5,
   "metadata": {
    "execution": {
     "iopub.execute_input": "2020-12-13T01:25:27.378901Z",
     "iopub.status.busy": "2020-12-13T01:25:27.378169Z",
     "iopub.status.idle": "2020-12-13T01:25:27.382889Z",
     "shell.execute_reply": "2020-12-13T01:25:27.383638Z"
    }
   },
   "outputs": [],
   "source": [
    "drop_features = ['id', 'Author']"
   ]
  },
  {
   "cell_type": "markdown",
   "metadata": {},
   "source": [
    "Both `id` and `Author` are features that we don't want to include into our training model:\n",
    "- `id` is just a random indentification for each row. This is aligned with our observation from the profiling report, that this feature have almost no correlation with the target.\n",
    "- We intentionally drop `Author` because we don't want it to affect our prediction. Our goal is to build a model that can predict ratings by just looking at the review text, so adding author would unnecessarily make the model more bias."
   ]
  },
  {
   "cell_type": "markdown",
   "metadata": {},
   "source": [
    "## Visualizing features <a name=\"2\"></a>\n",
    "<hr>"
   ]
  },
  {
   "cell_type": "markdown",
   "metadata": {},
   "source": [
    "### The distribution of ratings (target)\n",
    "\n",
    "![The distribution of ratings](../results/histogram_rating_distribution.svg)"
   ]
  },
  {
   "cell_type": "markdown",
   "metadata": {},
   "source": [
    "Ratings seems to follow a bell-shaped distribution and slightly left-skewed.\n",
    "\n",
    "Most of the values seems to cluster between 0.4 and 0.9. This suggested some imbalance in the target distribution."
   ]
  },
  {
   "cell_type": "markdown",
   "metadata": {},
   "source": [
    "### The relationship between text length and ratings\n",
    "\n",
    "![The relationship between text length and ratings](../results/histogram_rating_vs_text_length.svg)"
   ]
  },
  {
   "cell_type": "markdown",
   "metadata": {},
   "source": [
    "The relationship between rating and the associated review text length is another interesting plot. We are seeing a trend of mean of review text length increasing as the rating increased.\n",
    "\n",
    "This might be an indication that when people rate a movie high, they tends to write longer reviews. So text length can potentially by one useful feature that we can utilize."
   ]
  },
  {
   "cell_type": "markdown",
   "metadata": {},
   "source": [
    "### The list of top 20 frequent word appeared in text\n",
    "\n",
    "For `Text`, we want to use bag of words techique to further extract useful features from this raw feature.\n",
    "Therefore, we used `CountVectorizer(stop_words='english')` to break each of the raw texts into multiple word features.\n",
    "The following table shows the top 20 most frequent words extracted by `CountVectorizer(stop_words='english')`."
   ]
  },
  {
   "cell_type": "code",
   "execution_count": 6,
   "metadata": {
    "execution": {
     "iopub.execute_input": "2020-12-13T01:25:27.390748Z",
     "iopub.status.busy": "2020-12-13T01:25:27.386907Z",
     "iopub.status.idle": "2020-12-13T01:25:27.402463Z",
     "shell.execute_reply": "2020-12-13T01:25:27.403278Z"
    }
   },
   "outputs": [
    {
     "data": {
      "text/html": [
       "<div>\n",
       "<style scoped>\n",
       "    .dataframe tbody tr th:only-of-type {\n",
       "        vertical-align: middle;\n",
       "    }\n",
       "\n",
       "    .dataframe tbody tr th {\n",
       "        vertical-align: top;\n",
       "    }\n",
       "\n",
       "    .dataframe thead th {\n",
       "        text-align: right;\n",
       "    }\n",
       "</style>\n",
       "<table border=\"1\" class=\"dataframe\">\n",
       "  <thead>\n",
       "    <tr style=\"text-align: right;\">\n",
       "      <th></th>\n",
       "      <th>Count</th>\n",
       "    </tr>\n",
       "    <tr>\n",
       "      <th>Word</th>\n",
       "      <th></th>\n",
       "    </tr>\n",
       "  </thead>\n",
       "  <tbody>\n",
       "    <tr>\n",
       "      <th>film</th>\n",
       "      <td>17220</td>\n",
       "    </tr>\n",
       "    <tr>\n",
       "      <th>movie</th>\n",
       "      <td>9868</td>\n",
       "    </tr>\n",
       "    <tr>\n",
       "      <th>like</th>\n",
       "      <td>7170</td>\n",
       "    </tr>\n",
       "    <tr>\n",
       "      <th>story</th>\n",
       "      <td>6923</td>\n",
       "    </tr>\n",
       "    <tr>\n",
       "      <th>director</th>\n",
       "      <td>5525</td>\n",
       "    </tr>\n",
       "    <tr>\n",
       "      <th>time</th>\n",
       "      <td>5373</td>\n",
       "    </tr>\n",
       "    <tr>\n",
       "      <th>just</th>\n",
       "      <td>4689</td>\n",
       "    </tr>\n",
       "    <tr>\n",
       "      <th>life</th>\n",
       "      <td>4302</td>\n",
       "    </tr>\n",
       "    <tr>\n",
       "      <th>good</th>\n",
       "      <td>3464</td>\n",
       "    </tr>\n",
       "    <tr>\n",
       "      <th>man</th>\n",
       "      <td>3392</td>\n",
       "    </tr>\n",
       "    <tr>\n",
       "      <th>little</th>\n",
       "      <td>3386</td>\n",
       "    </tr>\n",
       "    <tr>\n",
       "      <th>way</th>\n",
       "      <td>3340</td>\n",
       "    </tr>\n",
       "    <tr>\n",
       "      <th>make</th>\n",
       "      <td>3218</td>\n",
       "    </tr>\n",
       "    <tr>\n",
       "      <th>films</th>\n",
       "      <td>3185</td>\n",
       "    </tr>\n",
       "    <tr>\n",
       "      <th>love</th>\n",
       "      <td>3143</td>\n",
       "    </tr>\n",
       "    <tr>\n",
       "      <th>characters</th>\n",
       "      <td>3108</td>\n",
       "    </tr>\n",
       "    <tr>\n",
       "      <th>best</th>\n",
       "      <td>3031</td>\n",
       "    </tr>\n",
       "    <tr>\n",
       "      <th>new</th>\n",
       "      <td>3002</td>\n",
       "    </tr>\n",
       "    <tr>\n",
       "      <th>doesn</th>\n",
       "      <td>2875</td>\n",
       "    </tr>\n",
       "    <tr>\n",
       "      <th>does</th>\n",
       "      <td>2874</td>\n",
       "    </tr>\n",
       "  </tbody>\n",
       "</table>\n",
       "</div>"
      ],
      "text/plain": [
       "            Count\n",
       "Word             \n",
       "film        17220\n",
       "movie        9868\n",
       "like         7170\n",
       "story        6923\n",
       "director     5525\n",
       "time         5373\n",
       "just         4689\n",
       "life         4302\n",
       "good         3464\n",
       "man          3392\n",
       "little       3386\n",
       "way          3340\n",
       "make         3218\n",
       "films        3185\n",
       "love         3143\n",
       "characters   3108\n",
       "best         3031\n",
       "new          3002\n",
       "doesn        2875\n",
       "does         2874"
      ]
     },
     "execution_count": 1,
     "metadata": {},
     "output_type": "execute_result"
    }
   ],
   "source": [
    "pd.read_csv('../results/top_20_frequent_words.csv', index_col=0)"
   ]
  },
  {
   "cell_type": "markdown",
   "metadata": {},
   "source": [
    "From the table we can observe that many of the words appeared seem to make sense in a movie review. This is probably an indication to us that bag of words technique would provide us with useful features that can help with our prediction."
   ]
  },
  {
   "cell_type": "code",
   "execution_count": null,
   "metadata": {},
   "outputs": [],
   "source": []
  }
 ],
 "metadata": {
  "kernelspec": {
   "display_name": "Python 3",
   "language": "python",
   "name": "python3"
  },
  "language_info": {
   "codemirror_mode": {
    "name": "ipython",
    "version": 3
   },
   "file_extension": ".py",
   "mimetype": "text/x-python",
   "name": "python",
   "nbconvert_exporter": "python",
   "pygments_lexer": "ipython3",
   "version": "3.8.5"
  }
 },
 "nbformat": 4,
 "nbformat_minor": 4
}
